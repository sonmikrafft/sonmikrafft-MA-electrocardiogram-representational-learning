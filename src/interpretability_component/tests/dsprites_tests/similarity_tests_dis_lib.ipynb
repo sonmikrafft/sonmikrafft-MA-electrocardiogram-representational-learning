{
 "cells": [
  {
   "cell_type": "code",
   "execution_count": null,
   "metadata": {
    "pycharm": {
     "name": "#%%\n"
    }
   },
   "outputs": [],
   "source": [
    "# @formatter:off\n",
    "%load_ext autoreload\n",
    "%autoreload 2\n",
    "# @formatter:on"
   ]
  },
  {
   "cell_type": "code",
   "execution_count": null,
   "metadata": {
    "pycharm": {
     "name": "#%%\n"
    }
   },
   "outputs": [],
   "source": [
    "from dsprites_data_preprocessor import DSprites\n",
    "\n",
    "model_num = 1300\n",
    "data_preprocessor = DSprites(size=10000, model_num=model_num)"
   ]
  },
  {
   "cell_type": "code",
   "execution_count": null,
   "metadata": {
    "pycharm": {
     "name": "#%%\n"
    }
   },
   "outputs": [],
   "source": [
    "data_preprocessor.meta_data"
   ]
  },
  {
   "cell_type": "code",
   "execution_count": null,
   "metadata": {
    "pycharm": {
     "name": "#%%\n"
    }
   },
   "outputs": [],
   "source": [
    "meta_data = data_preprocessor.meta_data"
   ]
  },
  {
   "cell_type": "code",
   "execution_count": null,
   "metadata": {
    "pycharm": {
     "name": "#%%\n"
    }
   },
   "outputs": [],
   "source": [
    "print(data_preprocessor.z)"
   ]
  },
  {
   "cell_type": "code",
   "execution_count": null,
   "metadata": {
    "pycharm": {
     "name": "#%%\n"
    }
   },
   "outputs": [],
   "source": [
    "from src.interpretability_component.similarity_measures import *\n",
    "\n",
    "sim_measure = SimilarityMeasure(data_preprocessor, mutual_information_regression)\n",
    "scores = sim_measure.scores"
   ]
  },
  {
   "cell_type": "code",
   "execution_count": null,
   "metadata": {
    "pycharm": {
     "name": "#%%\n"
    }
   },
   "outputs": [],
   "source": [
    "print(sim_measure.get_interpretable_dims(method=get_top_dimension))"
   ]
  },
  {
   "cell_type": "code",
   "execution_count": null,
   "outputs": [],
   "source": [
    "print(sim_measure.get_interpretable_dims(method=get_meaningful_dimensions))"
   ],
   "metadata": {
    "collapsed": false,
    "pycharm": {
     "name": "#%%\n"
    }
   }
  },
  {
   "cell_type": "code",
   "execution_count": null,
   "metadata": {
    "pycharm": {
     "name": "#%%\n"
    }
   },
   "outputs": [],
   "source": [
    "from src.interpretability_component.utils import visualize_mi_matrix\n",
    "\n",
    "filename = \"results/\" + str(model_num) + \"_mi\"\n",
    "visualize_mi_matrix(scores, meta_data.columns, save_pdf=True, filename=filename)"
   ]
  },
  {
   "cell_type": "code",
   "execution_count": null,
   "outputs": [],
   "source": [
    "sim_measure = SimilarityMeasure(data_preprocessor, pearson_correlation, num_bins=20)\n",
    "#scores = np.abs(sim_measure.scores)\n",
    "scores = sim_measure.scores\n",
    "filename = \"results/\" + str(model_num) + \"_pearson_correlation\"\n",
    "visualize_mi_matrix(scores, meta_data.columns, save_pdf=True, filename=filename)"
   ],
   "metadata": {
    "collapsed": false,
    "pycharm": {
     "name": "#%%\n"
    }
   }
  },
  {
   "cell_type": "markdown",
   "metadata": {
    "collapsed": false
   },
   "source": [
    "## MIG"
   ]
  },
  {
   "cell_type": "code",
   "execution_count": null,
   "metadata": {
    "pycharm": {
     "name": "#%%\n"
    }
   },
   "outputs": [],
   "source": [
    "from src.interpretability_component.disentanglement_metrics import *\n",
    "\n",
    "mig = DisentanglementMetric(sim_measure, mutual_information_gap).compute_score()\n",
    "print(mig)"
   ]
  },
  {
   "cell_type": "markdown",
   "source": [
    "## RMIG, JEMMIG, MIG-sup, DCIMIG"
   ],
   "metadata": {
    "collapsed": false
   }
  },
  {
   "cell_type": "code",
   "execution_count": null,
   "outputs": [],
   "source": [
    "rmig = DisentanglementMetric(sim_measure, rmig).compute_score()\n",
    "print(rmig)\n",
    "\n",
    "jemmig = DisentanglementMetric(sim_measure, jemmig).compute_score()\n",
    "print(jemmig)\n",
    "\n",
    "mig_sup = DisentanglementMetric(sim_measure, mig_sup).compute_score()\n",
    "print(mig_sup)\n",
    "\n",
    "dcimig = DisentanglementMetric(sim_measure, dcimig).compute_score()\n",
    "print(dcimig)"
   ],
   "metadata": {
    "collapsed": false,
    "pycharm": {
     "name": "#%%\n"
    }
   }
  },
  {
   "cell_type": "markdown",
   "metadata": {
    "collapsed": false
   },
   "source": [
    "## Modularity Score"
   ]
  },
  {
   "cell_type": "code",
   "execution_count": null,
   "metadata": {
    "pycharm": {
     "name": "#%%\n"
    }
   },
   "outputs": [],
   "source": [
    "mod_score = DisentanglementMetric(sim_measure, modularity_score).compute_score()\n",
    "print(mod_score)"
   ]
  },
  {
   "cell_type": "markdown",
   "source": [
    "## DCI"
   ],
   "metadata": {
    "collapsed": false
   }
  },
  {
   "cell_type": "code",
   "execution_count": null,
   "outputs": [],
   "source": [
    "data_preprocessor_2 = DSprites(size=256, model_num=model_num)"
   ],
   "metadata": {
    "collapsed": false,
    "pycharm": {
     "name": "#%%\n"
    }
   }
  },
  {
   "cell_type": "code",
   "execution_count": null,
   "metadata": {
    "pycharm": {
     "name": "#%%\n"
    }
   },
   "outputs": [],
   "source": [
    "sim_measure = SimilarityMeasure(data_preprocessor_2, random_forest_regressor)\n",
    "scores = sim_measure.scores"
   ]
  },
  {
   "cell_type": "code",
   "execution_count": null,
   "outputs": [],
   "source": [
    "print(sim_measure.get_interpretable_dims())\n",
    "filename = \"results/\" + str(model_num) + \"_random_forest_regressor\"\n",
    "visualize_mi_matrix(scores, meta_data.columns, save_pdf=True, filename=filename)"
   ],
   "metadata": {
    "collapsed": false,
    "pycharm": {
     "name": "#%%\n"
    }
   }
  },
  {
   "cell_type": "code",
   "execution_count": null,
   "outputs": [],
   "source": [
    "dci_score = DisentanglementMetric(sim_measure, dci).compute_score()\n",
    "print(dci_score)"
   ],
   "metadata": {
    "collapsed": false,
    "pycharm": {
     "name": "#%%\n"
    }
   }
  },
  {
   "cell_type": "markdown",
   "source": [
    "## SAP"
   ],
   "metadata": {
    "collapsed": false
   }
  },
  {
   "cell_type": "code",
   "execution_count": null,
   "metadata": {
    "pycharm": {
     "name": "#%%\n"
    }
   },
   "outputs": [],
   "source": [
    "sim_measure = SimilarityMeasure(data_preprocessor, linear_regressor)\n",
    "scores = sim_measure.scores"
   ]
  },
  {
   "cell_type": "code",
   "execution_count": null,
   "outputs": [],
   "source": [
    "print(sim_measure.get_interpretable_dims())\n",
    "filename = \"results/\" + str(model_num) + \"_linear_regressor\"\n",
    "visualize_mi_matrix(scores, meta_data.columns, save_pdf=True, filename=filename)"
   ],
   "metadata": {
    "collapsed": false,
    "pycharm": {
     "name": "#%%\n"
    }
   }
  },
  {
   "cell_type": "code",
   "execution_count": null,
   "outputs": [],
   "source": [
    "sap_score = DisentanglementMetric(sim_measure, sap).compute_score()\n",
    "print(sap_score)"
   ],
   "metadata": {
    "collapsed": false,
    "pycharm": {
     "name": "#%%\n"
    }
   }
  },
  {
   "cell_type": "markdown",
   "source": [
    "## Explicitness"
   ],
   "metadata": {
    "collapsed": false
   }
  },
  {
   "cell_type": "code",
   "execution_count": null,
   "outputs": [],
   "source": [
    "sim_measure = SimilarityMeasure(data_preprocessor, logistic_regressor)\n",
    "scores = sim_measure.scores"
   ],
   "metadata": {
    "collapsed": false,
    "pycharm": {
     "name": "#%%\n"
    }
   }
  },
  {
   "cell_type": "code",
   "execution_count": null,
   "outputs": [],
   "source": [
    "print(sim_measure.get_interpretable_dims())\n",
    "filename = \"results/\" + str(model_num) + \"_logistic_regressor\"\n",
    "visualize_mi_matrix(scores, meta_data.columns, save_pdf=True, filename=filename)"
   ],
   "metadata": {
    "collapsed": false,
    "pycharm": {
     "name": "#%%\n"
    }
   }
  },
  {
   "cell_type": "code",
   "execution_count": null,
   "outputs": [],
   "source": [
    "exp_score = DisentanglementMetric(sim_measure, explicitness_score).compute_score()\n",
    "print(exp_score)"
   ],
   "metadata": {
    "collapsed": false,
    "pycharm": {
     "name": "#%%\n"
    }
   }
  },
  {
   "cell_type": "code",
   "execution_count": null,
   "outputs": [],
   "source": [
    "from src.interpretability_component.utils import save_dis_scores_as_csv"
   ],
   "metadata": {
    "collapsed": false,
    "pycharm": {
     "name": "#%%\n"
    }
   }
  },
  {
   "cell_type": "code",
   "execution_count": null,
   "outputs": [],
   "source": [
    "path = \"results/\"\n",
    "save_dis_scores_as_csv(\n",
    "    {\"mig\": mig, \"modularity\": mod_score, \"rmig\": rmig, \"jemmig\": jemmig, \"mig-sup\": mig_sup, \"dcimig\": dcimig,\n",
    "     \"dci\": dci_score, \"sap\": sap_score, \"explicitness\": exp_score}, model_num, path)"
   ],
   "metadata": {
    "collapsed": false,
    "pycharm": {
     "name": "#%%\n"
    }
   }
  },
  {
   "cell_type": "code",
   "execution_count": null,
   "outputs": [],
   "source": [],
   "metadata": {
    "collapsed": false,
    "pycharm": {
     "name": "#%%\n"
    }
   }
  }
 ],
 "metadata": {
  "kernelspec": {
   "display_name": "Python 3",
   "language": "python",
   "name": "python3"
  },
  "language_info": {
   "codemirror_mode": {
    "name": "ipython",
    "version": 2
   },
   "file_extension": ".py",
   "mimetype": "text/x-python",
   "name": "python",
   "nbconvert_exporter": "python",
   "pygments_lexer": "ipython2",
   "version": "2.7.6"
  }
 },
 "nbformat": 4,
 "nbformat_minor": 0
}