{
 "cells": [
  {
   "cell_type": "markdown",
   "metadata": {
    "collapsed": false,
    "jupyter": {
     "outputs_hidden": false
    }
   },
   "source": [
    "## Data Preprocessing"
   ]
  },
  {
   "cell_type": "code",
   "execution_count": null,
   "metadata": {},
   "outputs": [],
   "source": [
    "import tensorflow_datasets as tfds\n",
    "import torch\n",
    "import numpy as np\n",
    "import pandas as pd\n",
    "\n",
    "from sklearn.model_selection import train_test_split"
   ]
  },
  {
   "cell_type": "code",
   "execution_count": null,
   "metadata": {},
   "outputs": [],
   "source": [
    "# @formatter:off\n",
    "%load_ext autoreload\n",
    "%autoreload 2\n",
    "# @formatter:on"
   ]
  },
  {
   "cell_type": "code",
   "execution_count": null,
   "metadata": {
    "collapsed": false,
    "jupyter": {
     "outputs_hidden": false
    },
    "pycharm": {
     "name": "#%%\n"
    }
   },
   "outputs": [],
   "source": [
    "data_str = \"synth\"\n",
    "data_size = 6399\n",
    "\n",
    "batch_size = 32\n",
    "latent_dim = 8\n",
    "num_epochs = 32\n",
    "alpha = 0.8\n",
    "beta = 1.6\n",
    "gamma = 0.8"
   ]
  },
  {
   "cell_type": "code",
   "execution_count": null,
   "metadata": {},
   "outputs": [],
   "source": [
    "data = tfds.load(data_str)[\"train\"]\n",
    "print(len(list(data)))"
   ]
  },
  {
   "cell_type": "code",
   "execution_count": null,
   "metadata": {
    "collapsed": false,
    "jupyter": {
     "outputs_hidden": false
    },
    "pycharm": {
     "name": "#%%\n"
    }
   },
   "outputs": [],
   "source": [
    "data = tfds.load(data_str)[\"train\"].take(data_size)"
   ]
  },
  {
   "cell_type": "code",
   "execution_count": null,
   "metadata": {
    "collapsed": false,
    "jupyter": {
     "outputs_hidden": false
    },
    "pycharm": {
     "name": "#%%\n"
    }
   },
   "outputs": [],
   "source": [
    "ecg_data = pd.DataFrame(data)['ecg'].map(lambda ecg: ecg['I'].numpy())\n",
    "ecg_data = np.array(ecg_data.tolist()).reshape(len(data), 1, 500)"
   ]
  },
  {
   "cell_type": "code",
   "execution_count": null,
   "metadata": {
    "collapsed": false,
    "jupyter": {
     "outputs_hidden": false
    },
    "pycharm": {
     "name": "#%%\n"
    }
   },
   "outputs": [],
   "source": [
    "ecg_data.shape"
   ]
  },
  {
   "cell_type": "code",
   "execution_count": null,
   "metadata": {
    "collapsed": false,
    "jupyter": {
     "outputs_hidden": false
    },
    "pycharm": {
     "name": "#%%\n"
    }
   },
   "outputs": [],
   "source": [
    "# Split the data into train and validation sets\n",
    "train_data, val_data = train_test_split(ecg_data, test_size=0.2, random_state=42)"
   ]
  },
  {
   "cell_type": "markdown",
   "metadata": {
    "collapsed": false,
    "jupyter": {
     "outputs_hidden": false
    }
   },
   "source": [
    "## Model Configuration"
   ]
  },
  {
   "cell_type": "code",
   "execution_count": null,
   "metadata": {
    "collapsed": false,
    "jupyter": {
     "outputs_hidden": false
    },
    "pycharm": {
     "name": "#%%\n"
    }
   },
   "outputs": [],
   "source": [
    "from pythae.models import BetaTCVAEConfig, BetaTCVAE\n",
    "from pythae.trainers import BaseTrainerConfig\n",
    "from model import Encoder, Decoder\n",
    "\n",
    "config = BaseTrainerConfig(\n",
    "    output_dir='../results/my_model',\n",
    "    learning_rate=1e-4,\n",
    "    per_device_train_batch_size=batch_size,\n",
    "    per_device_eval_batch_size=batch_size,\n",
    "    num_epochs=num_epochs,\n",
    ")\n",
    "\n",
    "model_config = BetaTCVAEConfig(\n",
    "    input_dim=(1, 1, 500),\n",
    "    latent_dim=latent_dim,\n",
    "    beta=beta,\n",
    "    alpha=alpha,\n",
    "    gamma=gamma\n",
    ")\n",
    "\n",
    "model = BetaTCVAE(\n",
    "    model_config=model_config,\n",
    "    encoder=Encoder(model_config),\n",
    "    decoder=Decoder(model_config)\n",
    ")"
   ]
  },
  {
   "cell_type": "code",
   "execution_count": null,
   "metadata": {
    "collapsed": false,
    "jupyter": {
     "outputs_hidden": false
    },
    "pycharm": {
     "name": "#%%\n"
    }
   },
   "outputs": [],
   "source": [
    "model"
   ]
  },
  {
   "cell_type": "code",
   "execution_count": null,
   "metadata": {
    "collapsed": false,
    "jupyter": {
     "outputs_hidden": false
    },
    "pycharm": {
     "name": "#%%\n"
    }
   },
   "outputs": [],
   "source": [
    "from pythae.pipelines import TrainingPipeline\n",
    "\n",
    "pipeline = TrainingPipeline(\n",
    "    training_config=config,\n",
    "    model=model\n",
    ")"
   ]
  },
  {
   "cell_type": "code",
   "execution_count": null,
   "metadata": {
    "collapsed": false,
    "jupyter": {
     "outputs_hidden": false
    },
    "pycharm": {
     "name": "#%%\n"
    }
   },
   "outputs": [],
   "source": [
    "pipeline(\n",
    "    train_data = train_data,\n",
    "    eval_data= val_data\n",
    ")"
   ]
  },
  {
   "cell_type": "markdown",
   "metadata": {
    "collapsed": false,
    "jupyter": {
     "outputs_hidden": false
    }
   },
   "source": [
    "## Visualize Reconstructions"
   ]
  },
  {
   "cell_type": "code",
   "execution_count": null,
   "metadata": {},
   "outputs": [],
   "source": [
    "from pythae.models import AutoModel\n",
    "\n",
    "model = AutoModel.load_from_folder(\"../results/my_model/BetaTCVAE_training_2024-02-26_17-12-57/final_model/\") #change path to trained model\n",
    "#model = AutoModel.load_from_folder(\"../results/my_model/BetaTCVAE_training_2024-02-26_17-07-52/final_model/\")\n",
    "#model = AutoModel.load_from_folder(\"../results/my_model/BetaTCVAE_training_2024-02-27_17-18-23/final_model/\")"
   ]
  },
  {
   "cell_type": "code",
   "execution_count": null,
   "metadata": {},
   "outputs": [],
   "source": [
    "\n",
    "embeddings = model.encoder.forward(torch.from_numpy(ecg_data.astype('float32')))['embedding']"
   ]
  },
  {
   "cell_type": "code",
   "execution_count": null,
   "metadata": {},
   "outputs": [],
   "source": [
    "reconstructions = model.decoder.forward(embeddings)['reconstruction'].detach().numpy()"
   ]
  },
  {
   "cell_type": "code",
   "execution_count": null,
   "metadata": {},
   "outputs": [],
   "source": [
    "from matplotlib import pyplot as plt"
   ]
  },
  {
   "cell_type": "code",
   "execution_count": null,
   "metadata": {
    "scrolled": true
   },
   "outputs": [],
   "source": [
    "sample_nr = 5\n",
    "input_data = ecg_data[sample_nr][0]\n",
    "reconstruction = reconstructions[sample_nr][0]\n",
    "\n",
    "embeddings_mod_1 = embeddings[sample_nr].detach().clone()\n",
    "embeddings_mod_1[0] = 0\n",
    "reconstruction_mod_1 = model.decoder.forward(embeddings_mod_1)['reconstruction'].detach().numpy()[0][0]\n",
    "\n",
    "embeddings_mod_2 = embeddings[sample_nr].detach().clone()\n",
    "embeddings_mod_2[1] = 0\n",
    "reconstruction_mod_2 = model.decoder.forward(embeddings_mod_2)['reconstruction'].detach().numpy()[0][0]\n",
    "\n",
    "x_points = list(range(0, 500))\n",
    "plt.plot(x_points, reconstruction_mod_1, color='violet', label='reconstruction dim0=0')\n",
    "plt.plot(x_points, reconstruction_mod_2, color='turquoise', label='reconstruction dim1=0')\n",
    "plt.plot(x_points, reconstruction, color='#a9dbb8', label='reconstruction')\n",
    "plt.plot(x_points, input_data, color='#020887', label='original')\n",
    "plt.legend()\n",
    "\n",
    "#plt.savefig(\"../results/model_evaluation/synth_reconstruction\" + \"_5_sample\" + \".pdf\", bbox_inches='tight')\n",
    "plt.show()"
   ]
  },
  {
   "cell_type": "code",
   "execution_count": null,
   "metadata": {},
   "outputs": [],
   "source": [
    "from collections import namedtuple\n",
    "\n",
    "meta_data = pd.DataFrame(data)[['t_height', 'p_height']].map(lambda d: d.numpy())\n",
    "#meta_data = pd.DataFrame(data).drop(['ecg', 'quality'], axis=1).map(lambda d: d.numpy())\n",
    "Data = namedtuple('Data', ['meta_data', 'z', 'discrete_features'])\n",
    "\n",
    "input_data = Data(meta_data=meta_data, z=embeddings.detach().numpy(), discrete_features=[False]*len(meta_data.columns))\n"
   ]
  },
  {
   "cell_type": "code",
   "execution_count": null,
   "metadata": {
    "collapsed": false,
    "jupyter": {
     "outputs_hidden": false
    },
    "pycharm": {
     "name": "#%%\n"
    }
   },
   "outputs": [],
   "source": [
    "from interpretability_component.disentanglement_metrics import *\n",
    "from interpretability_component.similarity_measures import *\n",
    "\n",
    "sim_measure = SimilarityMeasure(input_data, mutual_information_regression)\n",
    "dim_labels = sim_measure.get_interpreted_features(get_top_feature_for_meaningful_dims)\n",
    "print(dim_labels)\n",
    "\n",
    "dis_metric = DisentanglementMetric(sim_measure, mig_sup)\n",
    "dis_metric_score = dis_metric.compute_score()\n",
    "print(dis_metric_score)"
   ]
  },
  {
   "cell_type": "code",
   "execution_count": null,
   "metadata": {
    "collapsed": false,
    "jupyter": {
     "outputs_hidden": false
    },
    "pycharm": {
     "name": "#%%\n"
    }
   },
   "outputs": [],
   "source": [
    "from interpretability_component.utils import *\n",
    "#visualize_mi_matrix(sim_measure.scores, meta_data.columns, save_pdf=True, filename=\"../results/model_evaluation/synth\")\n",
    "visualize_mi_matrix(sim_measure.scores, meta_data.columns)"
   ]
  },
  {
   "cell_type": "code",
   "execution_count": null,
   "metadata": {
    "pycharm": {
     "name": "#%%\n"
    }
   },
   "outputs": [],
   "source": [
    "import datetime\n",
    "\n",
    "path= \"../results/model_evaluation/\" + str(datetime.datetime.now().strftime(\"%Y-%m-%d_%H-%M-%S\"))\n",
    "\n",
    "df = pd.DataFrame()\n",
    "df['config'] = [model.model_config]\n",
    "df['dim_labels'] = [dim_labels]\n",
    "df['dis_metrics'] = [dis_metric_score]\n",
    "df['eval_loss'] = [4.328]\n",
    "\n",
    "print(df)\n",
    "\n",
    "#df.to_csv(path)"
   ]
  }
 ],
 "metadata": {
  "kernelspec": {
   "display_name": "Python 3 (ipykernel)",
   "language": "python",
   "name": "python3"
  },
  "language_info": {
   "codemirror_mode": {
    "name": "ipython",
    "version": 3
   },
   "file_extension": ".py",
   "mimetype": "text/x-python",
   "name": "python",
   "nbconvert_exporter": "python",
   "pygments_lexer": "ipython3",
   "version": "3.11.8"
  }
 },
 "nbformat": 4,
 "nbformat_minor": 4
}