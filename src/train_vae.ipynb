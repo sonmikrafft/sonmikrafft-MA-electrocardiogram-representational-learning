{
 "cells": [
  {
   "cell_type": "markdown",
   "metadata": {
    "collapsed": false,
    "jupyter": {
     "outputs_hidden": false
    }
   },
   "source": [
    "## Data Preprocessing"
   ]
  },
  {
   "cell_type": "code",
   "execution_count": 1,
   "metadata": {},
   "outputs": [],
   "source": [
    "import tensorflow_datasets as tfds\n",
    "import torch\n",
    "import numpy as np\n",
    "import pandas as pd\n",
    "\n",
    "from sklearn.model_selection import train_test_split\n",
    "from torch.utils.data import DataLoader"
   ]
  },
  {
   "cell_type": "code",
   "execution_count": 2,
   "metadata": {},
   "outputs": [],
   "source": [
    "# @formatter:off\n",
    "%load_ext autoreload\n",
    "%autoreload 2\n",
    "# @formatter:on"
   ]
  },
  {
   "cell_type": "code",
   "execution_count": 105,
   "metadata": {
    "collapsed": false,
    "jupyter": {
     "outputs_hidden": false
    },
    "pycharm": {
     "name": "#%%\n"
    }
   },
   "outputs": [],
   "source": [
    "data_str = \"synth\"\n",
    "data_size = 6399\n",
    "\n",
    "batch_size = 32\n",
    "latent_dim = 6\n",
    "num_epochs = 20\n",
    "beta = 2"
   ]
  },
  {
   "cell_type": "code",
   "execution_count": 4,
   "metadata": {
    "collapsed": false,
    "jupyter": {
     "outputs_hidden": false
    },
    "pycharm": {
     "name": "#%%\n"
    }
   },
   "outputs": [],
   "source": [
    "data = tfds.load(data_str)[\"train\"].take(data_size)"
   ]
  },
  {
   "cell_type": "code",
   "execution_count": 5,
   "metadata": {
    "collapsed": false,
    "jupyter": {
     "outputs_hidden": false
    },
    "pycharm": {
     "name": "#%%\n"
    }
   },
   "outputs": [],
   "source": [
    "ecg_data = pd.DataFrame(data)['ecg'].map(lambda ecg: ecg['I'].numpy())\n",
    "ecg_data = np.array(ecg_data.tolist()).reshape(len(data), 1, 500)"
   ]
  },
  {
   "cell_type": "code",
   "execution_count": 6,
   "metadata": {
    "collapsed": false,
    "jupyter": {
     "outputs_hidden": false
    },
    "pycharm": {
     "name": "#%%\n"
    }
   },
   "outputs": [
    {
     "data": {
      "text/plain": [
       "(6399, 1, 500)"
      ]
     },
     "execution_count": 6,
     "metadata": {},
     "output_type": "execute_result"
    }
   ],
   "source": [
    "ecg_data.shape"
   ]
  },
  {
   "cell_type": "code",
   "execution_count": 7,
   "metadata": {
    "collapsed": false,
    "jupyter": {
     "outputs_hidden": false
    },
    "pycharm": {
     "name": "#%%\n"
    }
   },
   "outputs": [],
   "source": [
    "# Split the data into train and validation sets\n",
    "train_data, val_data = train_test_split(ecg_data, test_size=0.2, random_state=42)"
   ]
  },
  {
   "cell_type": "code",
   "execution_count": 8,
   "metadata": {
    "collapsed": false,
    "jupyter": {
     "outputs_hidden": false
    },
    "pycharm": {
     "name": "#%%\n"
    }
   },
   "outputs": [],
   "source": [
    "train_loader= DataLoader(train_data, batch_size=batch_size, shuffle=True)\n",
    "val_loader= DataLoader(val_data, batch_size=batch_size, shuffle=False)"
   ]
  },
  {
   "cell_type": "markdown",
   "metadata": {
    "collapsed": false,
    "jupyter": {
     "outputs_hidden": false
    }
   },
   "source": [
    "## Model Configuration"
   ]
  },
  {
   "cell_type": "code",
   "execution_count": 106,
   "metadata": {
    "collapsed": false,
    "jupyter": {
     "outputs_hidden": false
    },
    "pycharm": {
     "name": "#%%\n"
    }
   },
   "outputs": [],
   "source": [
    "from pythae.models import BetaTCVAEConfig, BetaTCVAE\n",
    "from pythae.trainers import BaseTrainerConfig\n",
    "from model import Encoder, Decoder\n",
    "\n",
    "config = BaseTrainerConfig(\n",
    "    output_dir='../results/my_model',\n",
    "    learning_rate=1e-4,\n",
    "    per_device_train_batch_size=batch_size,\n",
    "    per_device_eval_batch_size=batch_size,\n",
    "    num_epochs=num_epochs,\n",
    ")\n",
    "\n",
    "model_config = BetaTCVAEConfig(\n",
    "    input_dim=(1, 1, 500),\n",
    "    latent_dim=latent_dim,\n",
    "    beta=beta,\n",
    "    alpha=1,\n",
    "    gamma=1\n",
    ")\n",
    "\n",
    "model = BetaTCVAE(\n",
    "    model_config=model_config,\n",
    "    encoder=Encoder(model_config),\n",
    "    decoder=Decoder(model_config)\n",
    ")"
   ]
  },
  {
   "cell_type": "code",
   "execution_count": 107,
   "metadata": {
    "collapsed": false,
    "jupyter": {
     "outputs_hidden": false
    },
    "pycharm": {
     "name": "#%%\n"
    }
   },
   "outputs": [
    {
     "data": {
      "text/plain": [
       "BetaTCVAE(\n",
       "  (decoder): Decoder(\n",
       "    (linear): Linear(in_features=6, out_features=640, bias=True)\n",
       "    (decode_1): Sequential(\n",
       "      (0): ConvTranspose1d(128, 64, kernel_size=(5,), stride=(5,))\n",
       "      (1): BatchNorm1d(64, eps=1e-05, momentum=0.1, affine=True, track_running_stats=True)\n",
       "      (2): LeakyReLU(negative_slope=0.01)\n",
       "    )\n",
       "    (decode_2): Sequential(\n",
       "      (0): ConvTranspose1d(64, 32, kernel_size=(5,), stride=(5,))\n",
       "      (1): BatchNorm1d(32, eps=1e-05, momentum=0.1, affine=True, track_running_stats=True)\n",
       "      (2): LeakyReLU(negative_slope=0.01)\n",
       "    )\n",
       "    (decode_3): Sequential(\n",
       "      (0): ConvTranspose1d(32, 1, kernel_size=(4,), stride=(4,))\n",
       "      (1): Sigmoid()\n",
       "    )\n",
       "  )\n",
       "  (encoder): Encoder(\n",
       "    (encode_1): Sequential(\n",
       "      (0): Conv1d(1, 128, kernel_size=(4,), stride=(2,))\n",
       "      (1): BatchNorm1d(128, eps=1e-05, momentum=0.1, affine=True, track_running_stats=True)\n",
       "      (2): LeakyReLU(negative_slope=0.01)\n",
       "    )\n",
       "    (encode_2): Sequential(\n",
       "      (0): Conv1d(128, 64, kernel_size=(4,), stride=(2,))\n",
       "      (1): BatchNorm1d(64, eps=1e-05, momentum=0.1, affine=True, track_running_stats=True)\n",
       "      (2): LeakyReLU(negative_slope=0.01)\n",
       "    )\n",
       "    (encode_3): Sequential(\n",
       "      (0): Conv1d(64, 32, kernel_size=(4,), stride=(5,))\n",
       "      (1): BatchNorm1d(32, eps=1e-05, momentum=0.1, affine=True, track_running_stats=True)\n",
       "      (2): LeakyReLU(negative_slope=0.01)\n",
       "    )\n",
       "    (encode_4): Sequential(\n",
       "      (0): Conv1d(32, 16, kernel_size=(4,), stride=(5,))\n",
       "      (1): BatchNorm1d(16, eps=1e-05, momentum=0.1, affine=True, track_running_stats=True)\n",
       "      (2): LeakyReLU(negative_slope=0.01)\n",
       "    )\n",
       "    (embedding): Linear(in_features=80, out_features=6, bias=True)\n",
       "    (log_var): Linear(in_features=80, out_features=6, bias=True)\n",
       "  )\n",
       ")"
      ]
     },
     "execution_count": 107,
     "metadata": {},
     "output_type": "execute_result"
    }
   ],
   "source": [
    "model"
   ]
  },
  {
   "cell_type": "code",
   "execution_count": 108,
   "metadata": {
    "collapsed": false,
    "jupyter": {
     "outputs_hidden": false
    },
    "pycharm": {
     "name": "#%%\n"
    }
   },
   "outputs": [],
   "source": [
    "from pythae.pipelines import TrainingPipeline\n",
    "\n",
    "pipeline = TrainingPipeline(\n",
    "    training_config=config,\n",
    "    model=model\n",
    ")"
   ]
  },
  {
   "cell_type": "code",
   "execution_count": 109,
   "metadata": {
    "collapsed": false,
    "jupyter": {
     "outputs_hidden": false
    },
    "pycharm": {
     "name": "#%%\n"
    }
   },
   "outputs": [
    {
     "name": "stderr",
     "output_type": "stream",
     "text": [
      "Preprocessing train data...\n",
      "INFO:pythae.pipelines.training:Preprocessing train data...\n",
      "Checking train dataset...\n",
      "INFO:pythae.pipelines.training:Checking train dataset...\n",
      "Preprocessing eval data...\n",
      "\n",
      "INFO:pythae.pipelines.training:Preprocessing eval data...\n",
      "\n",
      "Checking eval dataset...\n",
      "INFO:pythae.pipelines.training:Checking eval dataset...\n",
      "Using Base Trainer\n",
      "\n",
      "INFO:pythae.pipelines.training:Using Base Trainer\n",
      "\n",
      "Model passed sanity check !\n",
      "Ready for training.\n",
      "\n",
      "INFO:pythae.trainers.base_trainer.base_trainer:Model passed sanity check !\n",
      "Ready for training.\n",
      "\n",
      "Created ../results/my_model\\BetaTCVAE_training_2024-02-25_19-33-46. \n",
      "Training config, checkpoints and final model will be saved here.\n",
      "\n",
      "INFO:pythae.trainers.base_trainer.base_trainer:Created ../results/my_model\\BetaTCVAE_training_2024-02-25_19-33-46. \n",
      "Training config, checkpoints and final model will be saved here.\n",
      "\n",
      "Training params:\n",
      " - max_epochs: 20\n",
      " - per_device_train_batch_size: 32\n",
      " - per_device_eval_batch_size: 32\n",
      " - checkpoint saving every: None\n",
      "Optimizer: Adam (\n",
      "Parameter Group 0\n",
      "    amsgrad: False\n",
      "    betas: (0.9, 0.999)\n",
      "    capturable: False\n",
      "    differentiable: False\n",
      "    eps: 1e-08\n",
      "    foreach: None\n",
      "    fused: None\n",
      "    lr: 0.0001\n",
      "    maximize: False\n",
      "    weight_decay: 0\n",
      ")\n",
      "Scheduler: None\n",
      "\n",
      "INFO:pythae.trainers.base_trainer.base_trainer:Training params:\n",
      " - max_epochs: 20\n",
      " - per_device_train_batch_size: 32\n",
      " - per_device_eval_batch_size: 32\n",
      " - checkpoint saving every: None\n",
      "Optimizer: Adam (\n",
      "Parameter Group 0\n",
      "    amsgrad: False\n",
      "    betas: (0.9, 0.999)\n",
      "    capturable: False\n",
      "    differentiable: False\n",
      "    eps: 1e-08\n",
      "    foreach: None\n",
      "    fused: None\n",
      "    lr: 0.0001\n",
      "    maximize: False\n",
      "    weight_decay: 0\n",
      ")\n",
      "Scheduler: None\n",
      "\n",
      "Successfully launched training !\n",
      "\n",
      "INFO:pythae.trainers.base_trainer.base_trainer:Successfully launched training !\n",
      "\n"
     ]
    },
    {
     "data": {
      "application/vnd.jupyter.widget-view+json": {
       "model_id": "cd7f0b72999c402ab57c7bc8da8d2ab3",
       "version_major": 2,
       "version_minor": 0
      },
      "text/plain": [
       "Training of epoch 1/20:   0%|          | 0/160 [00:00<?, ?batch/s]"
      ]
     },
     "metadata": {},
     "output_type": "display_data"
    },
    {
     "data": {
      "application/vnd.jupyter.widget-view+json": {
       "model_id": "7b988f013c9249f78e40fa27e7615b40",
       "version_major": 2,
       "version_minor": 0
      },
      "text/plain": [
       "Eval of epoch 1/20:   0%|          | 0/40 [00:00<?, ?batch/s]"
      ]
     },
     "metadata": {},
     "output_type": "display_data"
    },
    {
     "name": "stderr",
     "output_type": "stream",
     "text": [
      "--------------------------------------------------------------------------\n",
      "INFO:pythae.trainers.base_trainer.base_trainer:--------------------------------------------------------------------------\n",
      "Train loss: 23.4158\n",
      "INFO:pythae.trainers.base_trainer.base_trainer:Train loss: 23.4158\n",
      "Eval loss: 13.3415\n",
      "INFO:pythae.trainers.base_trainer.base_trainer:Eval loss: 13.3415\n",
      "--------------------------------------------------------------------------\n",
      "INFO:pythae.trainers.base_trainer.base_trainer:--------------------------------------------------------------------------\n"
     ]
    },
    {
     "data": {
      "application/vnd.jupyter.widget-view+json": {
       "model_id": "d9e847aede9341ab96126d5763f17c8c",
       "version_major": 2,
       "version_minor": 0
      },
      "text/plain": [
       "Training of epoch 2/20:   0%|          | 0/160 [00:00<?, ?batch/s]"
      ]
     },
     "metadata": {},
     "output_type": "display_data"
    },
    {
     "data": {
      "application/vnd.jupyter.widget-view+json": {
       "model_id": "7be2b229eee147188794b96f4e311883",
       "version_major": 2,
       "version_minor": 0
      },
      "text/plain": [
       "Eval of epoch 2/20:   0%|          | 0/40 [00:00<?, ?batch/s]"
      ]
     },
     "metadata": {},
     "output_type": "display_data"
    },
    {
     "name": "stderr",
     "output_type": "stream",
     "text": [
      "--------------------------------------------------------------------------\n",
      "INFO:pythae.trainers.base_trainer.base_trainer:--------------------------------------------------------------------------\n",
      "Train loss: 10.9043\n",
      "INFO:pythae.trainers.base_trainer.base_trainer:Train loss: 10.9043\n",
      "Eval loss: 9.4171\n",
      "INFO:pythae.trainers.base_trainer.base_trainer:Eval loss: 9.4171\n",
      "--------------------------------------------------------------------------\n",
      "INFO:pythae.trainers.base_trainer.base_trainer:--------------------------------------------------------------------------\n"
     ]
    },
    {
     "data": {
      "application/vnd.jupyter.widget-view+json": {
       "model_id": "76fbde4de8c84d138d44a106b7a8e990",
       "version_major": 2,
       "version_minor": 0
      },
      "text/plain": [
       "Training of epoch 3/20:   0%|          | 0/160 [00:00<?, ?batch/s]"
      ]
     },
     "metadata": {},
     "output_type": "display_data"
    },
    {
     "data": {
      "application/vnd.jupyter.widget-view+json": {
       "model_id": "57a07942fbf74e7e8cfc6b6b66a8cbe9",
       "version_major": 2,
       "version_minor": 0
      },
      "text/plain": [
       "Eval of epoch 3/20:   0%|          | 0/40 [00:00<?, ?batch/s]"
      ]
     },
     "metadata": {},
     "output_type": "display_data"
    },
    {
     "name": "stderr",
     "output_type": "stream",
     "text": [
      "--------------------------------------------------------------------------\n",
      "INFO:pythae.trainers.base_trainer.base_trainer:--------------------------------------------------------------------------\n",
      "Train loss: 8.7433\n",
      "INFO:pythae.trainers.base_trainer.base_trainer:Train loss: 8.7433\n",
      "Eval loss: 7.9152\n",
      "INFO:pythae.trainers.base_trainer.base_trainer:Eval loss: 7.9152\n",
      "--------------------------------------------------------------------------\n",
      "INFO:pythae.trainers.base_trainer.base_trainer:--------------------------------------------------------------------------\n"
     ]
    },
    {
     "data": {
      "application/vnd.jupyter.widget-view+json": {
       "model_id": "0a7438341db94350abeab46986e2bbd1",
       "version_major": 2,
       "version_minor": 0
      },
      "text/plain": [
       "Training of epoch 4/20:   0%|          | 0/160 [00:00<?, ?batch/s]"
      ]
     },
     "metadata": {},
     "output_type": "display_data"
    },
    {
     "data": {
      "application/vnd.jupyter.widget-view+json": {
       "model_id": "f02692c140b04b4098d3e5bf8f730b6b",
       "version_major": 2,
       "version_minor": 0
      },
      "text/plain": [
       "Eval of epoch 4/20:   0%|          | 0/40 [00:00<?, ?batch/s]"
      ]
     },
     "metadata": {},
     "output_type": "display_data"
    },
    {
     "name": "stderr",
     "output_type": "stream",
     "text": [
      "--------------------------------------------------------------------------\n",
      "INFO:pythae.trainers.base_trainer.base_trainer:--------------------------------------------------------------------------\n",
      "Train loss: 7.7104\n",
      "INFO:pythae.trainers.base_trainer.base_trainer:Train loss: 7.7104\n",
      "Eval loss: 7.1454\n",
      "INFO:pythae.trainers.base_trainer.base_trainer:Eval loss: 7.1454\n",
      "--------------------------------------------------------------------------\n",
      "INFO:pythae.trainers.base_trainer.base_trainer:--------------------------------------------------------------------------\n"
     ]
    },
    {
     "data": {
      "application/vnd.jupyter.widget-view+json": {
       "model_id": "5332ffe9a92e424e96231e351ed48007",
       "version_major": 2,
       "version_minor": 0
      },
      "text/plain": [
       "Training of epoch 5/20:   0%|          | 0/160 [00:00<?, ?batch/s]"
      ]
     },
     "metadata": {},
     "output_type": "display_data"
    },
    {
     "data": {
      "application/vnd.jupyter.widget-view+json": {
       "model_id": "f2beeef65fec4dd7ad1ff28a44aebb8b",
       "version_major": 2,
       "version_minor": 0
      },
      "text/plain": [
       "Eval of epoch 5/20:   0%|          | 0/40 [00:00<?, ?batch/s]"
      ]
     },
     "metadata": {},
     "output_type": "display_data"
    },
    {
     "name": "stderr",
     "output_type": "stream",
     "text": [
      "--------------------------------------------------------------------------\n",
      "INFO:pythae.trainers.base_trainer.base_trainer:--------------------------------------------------------------------------\n",
      "Train loss: 7.0437\n",
      "INFO:pythae.trainers.base_trainer.base_trainer:Train loss: 7.0437\n",
      "Eval loss: 6.6774\n",
      "INFO:pythae.trainers.base_trainer.base_trainer:Eval loss: 6.6774\n",
      "--------------------------------------------------------------------------\n",
      "INFO:pythae.trainers.base_trainer.base_trainer:--------------------------------------------------------------------------\n"
     ]
    },
    {
     "data": {
      "application/vnd.jupyter.widget-view+json": {
       "model_id": "6968187348284a9a90eecc57f4447ec9",
       "version_major": 2,
       "version_minor": 0
      },
      "text/plain": [
       "Training of epoch 6/20:   0%|          | 0/160 [00:00<?, ?batch/s]"
      ]
     },
     "metadata": {},
     "output_type": "display_data"
    },
    {
     "data": {
      "application/vnd.jupyter.widget-view+json": {
       "model_id": "d63643944f3942ac8ad1d6e251c04b26",
       "version_major": 2,
       "version_minor": 0
      },
      "text/plain": [
       "Eval of epoch 6/20:   0%|          | 0/40 [00:00<?, ?batch/s]"
      ]
     },
     "metadata": {},
     "output_type": "display_data"
    },
    {
     "name": "stderr",
     "output_type": "stream",
     "text": [
      "--------------------------------------------------------------------------\n",
      "INFO:pythae.trainers.base_trainer.base_trainer:--------------------------------------------------------------------------\n",
      "Train loss: 6.6308\n",
      "INFO:pythae.trainers.base_trainer.base_trainer:Train loss: 6.6308\n",
      "Eval loss: 6.3311\n",
      "INFO:pythae.trainers.base_trainer.base_trainer:Eval loss: 6.3311\n",
      "--------------------------------------------------------------------------\n",
      "INFO:pythae.trainers.base_trainer.base_trainer:--------------------------------------------------------------------------\n"
     ]
    },
    {
     "data": {
      "application/vnd.jupyter.widget-view+json": {
       "model_id": "0243b27c84db431f8fa7b9f134a0262d",
       "version_major": 2,
       "version_minor": 0
      },
      "text/plain": [
       "Training of epoch 7/20:   0%|          | 0/160 [00:00<?, ?batch/s]"
      ]
     },
     "metadata": {},
     "output_type": "display_data"
    },
    {
     "data": {
      "application/vnd.jupyter.widget-view+json": {
       "model_id": "2df6027a84db4c36ac55bb7576480077",
       "version_major": 2,
       "version_minor": 0
      },
      "text/plain": [
       "Eval of epoch 7/20:   0%|          | 0/40 [00:00<?, ?batch/s]"
      ]
     },
     "metadata": {},
     "output_type": "display_data"
    },
    {
     "name": "stderr",
     "output_type": "stream",
     "text": [
      "--------------------------------------------------------------------------\n",
      "INFO:pythae.trainers.base_trainer.base_trainer:--------------------------------------------------------------------------\n",
      "Train loss: 6.3804\n",
      "INFO:pythae.trainers.base_trainer.base_trainer:Train loss: 6.3804\n",
      "Eval loss: 6.1118\n",
      "INFO:pythae.trainers.base_trainer.base_trainer:Eval loss: 6.1118\n",
      "--------------------------------------------------------------------------\n",
      "INFO:pythae.trainers.base_trainer.base_trainer:--------------------------------------------------------------------------\n"
     ]
    },
    {
     "data": {
      "application/vnd.jupyter.widget-view+json": {
       "model_id": "19b8f5b3e1e54103a2031649e0897f1c",
       "version_major": 2,
       "version_minor": 0
      },
      "text/plain": [
       "Training of epoch 8/20:   0%|          | 0/160 [00:00<?, ?batch/s]"
      ]
     },
     "metadata": {},
     "output_type": "display_data"
    },
    {
     "data": {
      "application/vnd.jupyter.widget-view+json": {
       "model_id": "28f6eab049024639b7dffd997e2d608a",
       "version_major": 2,
       "version_minor": 0
      },
      "text/plain": [
       "Eval of epoch 8/20:   0%|          | 0/40 [00:00<?, ?batch/s]"
      ]
     },
     "metadata": {},
     "output_type": "display_data"
    },
    {
     "name": "stderr",
     "output_type": "stream",
     "text": [
      "--------------------------------------------------------------------------\n",
      "INFO:pythae.trainers.base_trainer.base_trainer:--------------------------------------------------------------------------\n",
      "Train loss: 6.2097\n",
      "INFO:pythae.trainers.base_trainer.base_trainer:Train loss: 6.2097\n",
      "Eval loss: 5.9597\n",
      "INFO:pythae.trainers.base_trainer.base_trainer:Eval loss: 5.9597\n",
      "--------------------------------------------------------------------------\n",
      "INFO:pythae.trainers.base_trainer.base_trainer:--------------------------------------------------------------------------\n"
     ]
    },
    {
     "data": {
      "application/vnd.jupyter.widget-view+json": {
       "model_id": "958c9327efc347aa823ce956aaa4c4dc",
       "version_major": 2,
       "version_minor": 0
      },
      "text/plain": [
       "Training of epoch 9/20:   0%|          | 0/160 [00:00<?, ?batch/s]"
      ]
     },
     "metadata": {},
     "output_type": "display_data"
    },
    {
     "data": {
      "application/vnd.jupyter.widget-view+json": {
       "model_id": "32f4bb857b6543b087cf520310e881c1",
       "version_major": 2,
       "version_minor": 0
      },
      "text/plain": [
       "Eval of epoch 9/20:   0%|          | 0/40 [00:00<?, ?batch/s]"
      ]
     },
     "metadata": {},
     "output_type": "display_data"
    },
    {
     "name": "stderr",
     "output_type": "stream",
     "text": [
      "--------------------------------------------------------------------------\n",
      "INFO:pythae.trainers.base_trainer.base_trainer:--------------------------------------------------------------------------\n",
      "Train loss: 6.0952\n",
      "INFO:pythae.trainers.base_trainer.base_trainer:Train loss: 6.0952\n",
      "Eval loss: 5.8184\n",
      "INFO:pythae.trainers.base_trainer.base_trainer:Eval loss: 5.8184\n",
      "--------------------------------------------------------------------------\n",
      "INFO:pythae.trainers.base_trainer.base_trainer:--------------------------------------------------------------------------\n"
     ]
    },
    {
     "data": {
      "application/vnd.jupyter.widget-view+json": {
       "model_id": "5e7c747ec8334160b82c2b88222fdd5c",
       "version_major": 2,
       "version_minor": 0
      },
      "text/plain": [
       "Training of epoch 10/20:   0%|          | 0/160 [00:00<?, ?batch/s]"
      ]
     },
     "metadata": {},
     "output_type": "display_data"
    },
    {
     "data": {
      "application/vnd.jupyter.widget-view+json": {
       "model_id": "0239ab4b22404067ae5d2b93a60d75d1",
       "version_major": 2,
       "version_minor": 0
      },
      "text/plain": [
       "Eval of epoch 10/20:   0%|          | 0/40 [00:00<?, ?batch/s]"
      ]
     },
     "metadata": {},
     "output_type": "display_data"
    },
    {
     "name": "stderr",
     "output_type": "stream",
     "text": [
      "--------------------------------------------------------------------------\n",
      "INFO:pythae.trainers.base_trainer.base_trainer:--------------------------------------------------------------------------\n",
      "Train loss: 5.9543\n",
      "INFO:pythae.trainers.base_trainer.base_trainer:Train loss: 5.9543\n",
      "Eval loss: 5.7463\n",
      "INFO:pythae.trainers.base_trainer.base_trainer:Eval loss: 5.7463\n",
      "--------------------------------------------------------------------------\n",
      "INFO:pythae.trainers.base_trainer.base_trainer:--------------------------------------------------------------------------\n"
     ]
    },
    {
     "data": {
      "application/vnd.jupyter.widget-view+json": {
       "model_id": "cf1b186d47244b1bb855f29c35a37e01",
       "version_major": 2,
       "version_minor": 0
      },
      "text/plain": [
       "Training of epoch 11/20:   0%|          | 0/160 [00:00<?, ?batch/s]"
      ]
     },
     "metadata": {},
     "output_type": "display_data"
    },
    {
     "data": {
      "application/vnd.jupyter.widget-view+json": {
       "model_id": "040130cda78f4a34bc09b5444b68c804",
       "version_major": 2,
       "version_minor": 0
      },
      "text/plain": [
       "Eval of epoch 11/20:   0%|          | 0/40 [00:00<?, ?batch/s]"
      ]
     },
     "metadata": {},
     "output_type": "display_data"
    },
    {
     "name": "stderr",
     "output_type": "stream",
     "text": [
      "--------------------------------------------------------------------------\n",
      "INFO:pythae.trainers.base_trainer.base_trainer:--------------------------------------------------------------------------\n",
      "Train loss: 5.8948\n",
      "INFO:pythae.trainers.base_trainer.base_trainer:Train loss: 5.8948\n",
      "Eval loss: 5.6562\n",
      "INFO:pythae.trainers.base_trainer.base_trainer:Eval loss: 5.6562\n",
      "--------------------------------------------------------------------------\n",
      "INFO:pythae.trainers.base_trainer.base_trainer:--------------------------------------------------------------------------\n"
     ]
    },
    {
     "data": {
      "application/vnd.jupyter.widget-view+json": {
       "model_id": "e4fc397956294e30bee9fce27d44bbdc",
       "version_major": 2,
       "version_minor": 0
      },
      "text/plain": [
       "Training of epoch 12/20:   0%|          | 0/160 [00:00<?, ?batch/s]"
      ]
     },
     "metadata": {},
     "output_type": "display_data"
    },
    {
     "data": {
      "application/vnd.jupyter.widget-view+json": {
       "model_id": "6beeab5741094d32b1527a9b55a8e36b",
       "version_major": 2,
       "version_minor": 0
      },
      "text/plain": [
       "Eval of epoch 12/20:   0%|          | 0/40 [00:00<?, ?batch/s]"
      ]
     },
     "metadata": {},
     "output_type": "display_data"
    },
    {
     "name": "stderr",
     "output_type": "stream",
     "text": [
      "--------------------------------------------------------------------------\n",
      "INFO:pythae.trainers.base_trainer.base_trainer:--------------------------------------------------------------------------\n",
      "Train loss: 5.8101\n",
      "INFO:pythae.trainers.base_trainer.base_trainer:Train loss: 5.8101\n",
      "Eval loss: 5.619\n",
      "INFO:pythae.trainers.base_trainer.base_trainer:Eval loss: 5.619\n",
      "--------------------------------------------------------------------------\n",
      "INFO:pythae.trainers.base_trainer.base_trainer:--------------------------------------------------------------------------\n"
     ]
    },
    {
     "data": {
      "application/vnd.jupyter.widget-view+json": {
       "model_id": "201b53dfb65e4ed2a2af1624ff0a803d",
       "version_major": 2,
       "version_minor": 0
      },
      "text/plain": [
       "Training of epoch 13/20:   0%|          | 0/160 [00:00<?, ?batch/s]"
      ]
     },
     "metadata": {},
     "output_type": "display_data"
    },
    {
     "data": {
      "application/vnd.jupyter.widget-view+json": {
       "model_id": "5fff70cf7cd74fd6a24ee9ffdd4baa36",
       "version_major": 2,
       "version_minor": 0
      },
      "text/plain": [
       "Eval of epoch 13/20:   0%|          | 0/40 [00:00<?, ?batch/s]"
      ]
     },
     "metadata": {},
     "output_type": "display_data"
    },
    {
     "name": "stderr",
     "output_type": "stream",
     "text": [
      "--------------------------------------------------------------------------\n",
      "INFO:pythae.trainers.base_trainer.base_trainer:--------------------------------------------------------------------------\n",
      "Train loss: 5.802\n",
      "INFO:pythae.trainers.base_trainer.base_trainer:Train loss: 5.802\n",
      "Eval loss: 5.5592\n",
      "INFO:pythae.trainers.base_trainer.base_trainer:Eval loss: 5.5592\n",
      "--------------------------------------------------------------------------\n",
      "INFO:pythae.trainers.base_trainer.base_trainer:--------------------------------------------------------------------------\n"
     ]
    },
    {
     "data": {
      "application/vnd.jupyter.widget-view+json": {
       "model_id": "ad8f6c9d09754f3e95b4c7b0fa90905a",
       "version_major": 2,
       "version_minor": 0
      },
      "text/plain": [
       "Training of epoch 14/20:   0%|          | 0/160 [00:00<?, ?batch/s]"
      ]
     },
     "metadata": {},
     "output_type": "display_data"
    },
    {
     "data": {
      "application/vnd.jupyter.widget-view+json": {
       "model_id": "d7bc65717b16406fbc59683ead4108d4",
       "version_major": 2,
       "version_minor": 0
      },
      "text/plain": [
       "Eval of epoch 14/20:   0%|          | 0/40 [00:00<?, ?batch/s]"
      ]
     },
     "metadata": {},
     "output_type": "display_data"
    },
    {
     "name": "stderr",
     "output_type": "stream",
     "text": [
      "--------------------------------------------------------------------------\n",
      "INFO:pythae.trainers.base_trainer.base_trainer:--------------------------------------------------------------------------\n",
      "Train loss: 5.7521\n",
      "INFO:pythae.trainers.base_trainer.base_trainer:Train loss: 5.7521\n",
      "Eval loss: 5.5665\n",
      "INFO:pythae.trainers.base_trainer.base_trainer:Eval loss: 5.5665\n",
      "--------------------------------------------------------------------------\n",
      "INFO:pythae.trainers.base_trainer.base_trainer:--------------------------------------------------------------------------\n"
     ]
    },
    {
     "data": {
      "application/vnd.jupyter.widget-view+json": {
       "model_id": "7d54ad11988e4fb58cd97576de3cb66f",
       "version_major": 2,
       "version_minor": 0
      },
      "text/plain": [
       "Training of epoch 15/20:   0%|          | 0/160 [00:00<?, ?batch/s]"
      ]
     },
     "metadata": {},
     "output_type": "display_data"
    },
    {
     "data": {
      "application/vnd.jupyter.widget-view+json": {
       "model_id": "ac6d7b1341d949518920ed2535130e74",
       "version_major": 2,
       "version_minor": 0
      },
      "text/plain": [
       "Eval of epoch 15/20:   0%|          | 0/40 [00:00<?, ?batch/s]"
      ]
     },
     "metadata": {},
     "output_type": "display_data"
    },
    {
     "name": "stderr",
     "output_type": "stream",
     "text": [
      "--------------------------------------------------------------------------\n",
      "INFO:pythae.trainers.base_trainer.base_trainer:--------------------------------------------------------------------------\n",
      "Train loss: 5.6861\n",
      "INFO:pythae.trainers.base_trainer.base_trainer:Train loss: 5.6861\n",
      "Eval loss: 5.543\n",
      "INFO:pythae.trainers.base_trainer.base_trainer:Eval loss: 5.543\n",
      "--------------------------------------------------------------------------\n",
      "INFO:pythae.trainers.base_trainer.base_trainer:--------------------------------------------------------------------------\n"
     ]
    },
    {
     "data": {
      "application/vnd.jupyter.widget-view+json": {
       "model_id": "fee82a6cb0ca4a89b3bd3101de1a04f4",
       "version_major": 2,
       "version_minor": 0
      },
      "text/plain": [
       "Training of epoch 16/20:   0%|          | 0/160 [00:00<?, ?batch/s]"
      ]
     },
     "metadata": {},
     "output_type": "display_data"
    },
    {
     "data": {
      "application/vnd.jupyter.widget-view+json": {
       "model_id": "5e1e1c784eb44ba88c7c949e0c84d706",
       "version_major": 2,
       "version_minor": 0
      },
      "text/plain": [
       "Eval of epoch 16/20:   0%|          | 0/40 [00:00<?, ?batch/s]"
      ]
     },
     "metadata": {},
     "output_type": "display_data"
    },
    {
     "name": "stderr",
     "output_type": "stream",
     "text": [
      "--------------------------------------------------------------------------\n",
      "INFO:pythae.trainers.base_trainer.base_trainer:--------------------------------------------------------------------------\n",
      "Train loss: 5.6573\n",
      "INFO:pythae.trainers.base_trainer.base_trainer:Train loss: 5.6573\n",
      "Eval loss: 5.5251\n",
      "INFO:pythae.trainers.base_trainer.base_trainer:Eval loss: 5.5251\n",
      "--------------------------------------------------------------------------\n",
      "INFO:pythae.trainers.base_trainer.base_trainer:--------------------------------------------------------------------------\n"
     ]
    },
    {
     "data": {
      "application/vnd.jupyter.widget-view+json": {
       "model_id": "91504f2d5cd74a28bc3f4081ba10d6eb",
       "version_major": 2,
       "version_minor": 0
      },
      "text/plain": [
       "Training of epoch 17/20:   0%|          | 0/160 [00:00<?, ?batch/s]"
      ]
     },
     "metadata": {},
     "output_type": "display_data"
    },
    {
     "data": {
      "application/vnd.jupyter.widget-view+json": {
       "model_id": "493b9ddebdaf4e978bae013e74fe1e98",
       "version_major": 2,
       "version_minor": 0
      },
      "text/plain": [
       "Eval of epoch 17/20:   0%|          | 0/40 [00:00<?, ?batch/s]"
      ]
     },
     "metadata": {},
     "output_type": "display_data"
    },
    {
     "name": "stderr",
     "output_type": "stream",
     "text": [
      "--------------------------------------------------------------------------\n",
      "INFO:pythae.trainers.base_trainer.base_trainer:--------------------------------------------------------------------------\n",
      "Train loss: 5.6779\n",
      "INFO:pythae.trainers.base_trainer.base_trainer:Train loss: 5.6779\n",
      "Eval loss: 5.4407\n",
      "INFO:pythae.trainers.base_trainer.base_trainer:Eval loss: 5.4407\n",
      "--------------------------------------------------------------------------\n",
      "INFO:pythae.trainers.base_trainer.base_trainer:--------------------------------------------------------------------------\n"
     ]
    },
    {
     "data": {
      "application/vnd.jupyter.widget-view+json": {
       "model_id": "53285c3ee5604bd6a8e78453c1515bff",
       "version_major": 2,
       "version_minor": 0
      },
      "text/plain": [
       "Training of epoch 18/20:   0%|          | 0/160 [00:00<?, ?batch/s]"
      ]
     },
     "metadata": {},
     "output_type": "display_data"
    },
    {
     "data": {
      "application/vnd.jupyter.widget-view+json": {
       "model_id": "8427e5043b10442298f5d54d452107a1",
       "version_major": 2,
       "version_minor": 0
      },
      "text/plain": [
       "Eval of epoch 18/20:   0%|          | 0/40 [00:00<?, ?batch/s]"
      ]
     },
     "metadata": {},
     "output_type": "display_data"
    },
    {
     "name": "stderr",
     "output_type": "stream",
     "text": [
      "--------------------------------------------------------------------------\n",
      "INFO:pythae.trainers.base_trainer.base_trainer:--------------------------------------------------------------------------\n",
      "Train loss: 5.6338\n",
      "INFO:pythae.trainers.base_trainer.base_trainer:Train loss: 5.6338\n",
      "Eval loss: 5.4333\n",
      "INFO:pythae.trainers.base_trainer.base_trainer:Eval loss: 5.4333\n",
      "--------------------------------------------------------------------------\n",
      "INFO:pythae.trainers.base_trainer.base_trainer:--------------------------------------------------------------------------\n"
     ]
    },
    {
     "data": {
      "application/vnd.jupyter.widget-view+json": {
       "model_id": "0e779db1553f44b998bc39ed0062154a",
       "version_major": 2,
       "version_minor": 0
      },
      "text/plain": [
       "Training of epoch 19/20:   0%|          | 0/160 [00:00<?, ?batch/s]"
      ]
     },
     "metadata": {},
     "output_type": "display_data"
    },
    {
     "data": {
      "application/vnd.jupyter.widget-view+json": {
       "model_id": "c147b0095d564038b764ebf6d157896f",
       "version_major": 2,
       "version_minor": 0
      },
      "text/plain": [
       "Eval of epoch 19/20:   0%|          | 0/40 [00:00<?, ?batch/s]"
      ]
     },
     "metadata": {},
     "output_type": "display_data"
    },
    {
     "name": "stderr",
     "output_type": "stream",
     "text": [
      "--------------------------------------------------------------------------\n",
      "INFO:pythae.trainers.base_trainer.base_trainer:--------------------------------------------------------------------------\n",
      "Train loss: 5.6081\n",
      "INFO:pythae.trainers.base_trainer.base_trainer:Train loss: 5.6081\n",
      "Eval loss: 5.4659\n",
      "INFO:pythae.trainers.base_trainer.base_trainer:Eval loss: 5.4659\n",
      "--------------------------------------------------------------------------\n",
      "INFO:pythae.trainers.base_trainer.base_trainer:--------------------------------------------------------------------------\n"
     ]
    },
    {
     "data": {
      "application/vnd.jupyter.widget-view+json": {
       "model_id": "b66ac58a04cc428bb59c7d8eb703de7f",
       "version_major": 2,
       "version_minor": 0
      },
      "text/plain": [
       "Training of epoch 20/20:   0%|          | 0/160 [00:00<?, ?batch/s]"
      ]
     },
     "metadata": {},
     "output_type": "display_data"
    },
    {
     "data": {
      "application/vnd.jupyter.widget-view+json": {
       "model_id": "dcd41823be4c4b6fa8943f440e7f6228",
       "version_major": 2,
       "version_minor": 0
      },
      "text/plain": [
       "Eval of epoch 20/20:   0%|          | 0/40 [00:00<?, ?batch/s]"
      ]
     },
     "metadata": {},
     "output_type": "display_data"
    },
    {
     "name": "stderr",
     "output_type": "stream",
     "text": [
      "--------------------------------------------------------------------------\n",
      "INFO:pythae.trainers.base_trainer.base_trainer:--------------------------------------------------------------------------\n",
      "Train loss: 5.6034\n",
      "INFO:pythae.trainers.base_trainer.base_trainer:Train loss: 5.6034\n",
      "Eval loss: 5.422\n",
      "INFO:pythae.trainers.base_trainer.base_trainer:Eval loss: 5.422\n",
      "--------------------------------------------------------------------------\n",
      "INFO:pythae.trainers.base_trainer.base_trainer:--------------------------------------------------------------------------\n",
      "Training ended!\n",
      "INFO:pythae.trainers.base_trainer.base_trainer:Training ended!\n",
      "Saved final model in ../results/my_model\\BetaTCVAE_training_2024-02-25_19-33-46\\final_model\n",
      "INFO:pythae.trainers.base_trainer.base_trainer:Saved final model in ../results/my_model\\BetaTCVAE_training_2024-02-25_19-33-46\\final_model\n"
     ]
    }
   ],
   "source": [
    "pipeline(\n",
    "    train_data = train_data,\n",
    "    eval_data= val_data\n",
    ")"
   ]
  },
  {
   "cell_type": "markdown",
   "metadata": {
    "collapsed": false,
    "jupyter": {
     "outputs_hidden": false
    }
   },
   "source": [
    "## Visualize Reconstructions"
   ]
  },
  {
   "cell_type": "code",
   "execution_count": 110,
   "metadata": {},
   "outputs": [],
   "source": [
    "\n",
    "embeddings = model.encoder.forward(torch.from_numpy(ecg_data.astype('float32')))['embedding']"
   ]
  },
  {
   "cell_type": "code",
   "execution_count": 111,
   "metadata": {},
   "outputs": [],
   "source": [
    "reconstructions = model.decoder.forward(embeddings)['reconstruction'].detach().numpy()"
   ]
  },
  {
   "cell_type": "code",
   "execution_count": 112,
   "metadata": {},
   "outputs": [],
   "source": [
    "from matplotlib import pyplot as plt"
   ]
  },
  {
   "cell_type": "code",
   "execution_count": 113,
   "metadata": {},
   "outputs": [
    {
     "data": {
      "image/png": "[encoded data removed]",
      "text/plain": [
       "<Figure size 640x480 with 1 Axes>"
      ]
     },
     "metadata": {},
     "output_type": "display_data"
    }
   ],
   "source": [
    "sample = 50\n",
    "x_points = list(range(0, 500))\n",
    "plt.plot(x_points, ecg_data[sample][0], color='#020887', label='original')\n",
    "plt.plot(x_points, reconstructions[sample][0], color='#a9dbb8', label='reconstruction')\n",
    "plt.legend()\n",
    "plt.show()"
   ]
  },
  {
   "cell_type": "code",
   "execution_count": 114,
   "metadata": {},
   "outputs": [],
   "source": [
    "from collections import namedtuple\n",
    "\n",
    "meta_data = pd.DataFrame(data)[['t_height', 'p_height']].map(lambda d: d.numpy())\n",
    "Data = namedtuple('Data', ['meta_data', 'z', 'discrete_features'])\n",
    "input_data = Data(meta_data=meta_data, z=embeddings.detach().numpy(), discrete_features=[False]*len(meta_data.columns))"
   ]
  },
  {
   "cell_type": "code",
   "execution_count": 115,
   "metadata": {
    "collapsed": false,
    "jupyter": {
     "outputs_hidden": false
    },
    "pycharm": {
     "name": "#%%\n"
    }
   },
   "outputs": [
    {
     "name": "stdout",
     "output_type": "stream",
     "text": [
      "['no feature', 'no feature', 't_height', 'no feature', 'no feature', 'no feature']\n",
      "0.27114544615369535\n"
     ]
    }
   ],
   "source": [
    "from interpretability_component.disentanglement_metrics import *\n",
    "from interpretability_component.similarity_measures import *\n",
    "\n",
    "sim_measure = SimilarityMeasure(input_data, mutual_information_regression)\n",
    "dim_labels = sim_measure.get_interpreted_features(get_top_feature_for_meaningful_dims)\n",
    "print(dim_labels)\n",
    "\n",
    "dis_metric = DisentanglementMetric(sim_measure, mutual_information_gap)\n",
    "dis_metric_score = dis_metric.compute_score()\n",
    "print(dis_metric_score)"
   ]
  },
  {
   "cell_type": "code",
   "execution_count": null,
   "metadata": {},
   "outputs": [],
   "source": []
  },
  {
   "cell_type": "code",
   "execution_count": 116,
   "metadata": {
    "collapsed": false,
    "jupyter": {
     "outputs_hidden": false
    },
    "pycharm": {
     "name": "#%%\n"
    }
   },
   "outputs": [
    {
     "data": {
      "image/png": "[encoded data removed]",
      "text/plain": [
       "<Figure size 640x480 with 2 Axes>"
      ]
     },
     "metadata": {},
     "output_type": "display_data"
    }
   ],
   "source": [
    "from interpretability_component.utils import *\n",
    "visualize_mi_matrix(sim_measure.scores, meta_data.columns)"
   ]
  },
  {
   "cell_type": "code",
   "execution_count": null,
   "metadata": {},
   "outputs": [],
   "source": []
  },
  {
   "cell_type": "code",
   "execution_count": null,
   "metadata": {},
   "outputs": [],
   "source": []
  }
 ],
 "metadata": {
  "kernelspec": {
   "display_name": "Python 3 (ipykernel)",
   "language": "python",
   "name": "python3"
  },
  "language_info": {
   "codemirror_mode": {
    "name": "ipython",
    "version": 3
   },
   "file_extension": ".py",
   "mimetype": "text/x-python",
   "name": "python",
   "nbconvert_exporter": "python",
   "pygments_lexer": "ipython3",
   "version": "3.11.8"
  }
 },
 "nbformat": 4,
 "nbformat_minor": 4
}