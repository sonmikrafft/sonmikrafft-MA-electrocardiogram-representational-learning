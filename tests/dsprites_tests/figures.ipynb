{
 "cells": [
  {
   "cell_type": "code",
   "execution_count": null,
   "outputs": [],
   "source": [
    "# scores from Locatello\n",
    "mig = [0.10, 0.09, 0.14, 0.23, 0.10, 0.04, 0.03, 0.02, 0.1, 0.22]\n",
    "mod_score = [0.86, 0.81, 0.78, 0.76, 0.90, 0.87, 0.81, 0.77, 0.81, 0.90]\n",
    "d = [0.16, 0.16, 0.21, 0.29, 0.13, 0.07, 0.10, 0.07, 0.16, 0.28]\n",
    "c = [0.17, 0.17, 0.24, 0.32, 0.12, 0.07, 0.10, 0.10, 0.16, 0.31]\n",
    "i = [0.76, 0.78, 0.74, 0.76, 0.74, 0.74, 0.78, 0.76, 0.76, 0.84]\n",
    "sap = [0.06, 0.02, 0.08, 0.07, 0.05, 0.02, 0.02, 0.01, 0.07, 0.07]\n",
    "exp_score = [0.80, 0.80, 0.77, 0.78, 0.78, 0.79, 0.78, 0.80, 0.79, 0.79]"
   ],
   "metadata": {
    "collapsed": false,
    "pycharm": {
     "name": "#%%\n"
    }
   }
  },
  {
   "cell_type": "code",
   "execution_count": null,
   "outputs": [],
   "source": [
    "import pandas as pd\n",
    "\n",
    "df0000 = pd.read_csv('results/0_disentanglement_scores.csv')\n",
    "df0100 = pd.read_csv('results/100_disentanglement_scores.csv')\n",
    "df0300 = pd.read_csv('results/300_disentanglement_scores.csv')\n",
    "df0400 = pd.read_csv('results/400_disentanglement_scores.csv')\n",
    "df0600 = pd.read_csv('results/600_disentanglement_scores.csv')\n",
    "df0700 = pd.read_csv('results/700_disentanglement_scores.csv')\n",
    "df0900 = pd.read_csv('results/900_disentanglement_scores.csv')\n",
    "df1000 = pd.read_csv('results/1000_disentanglement_scores.csv')\n",
    "df1200 = pd.read_csv('results/1200_disentanglement_scores.csv')\n",
    "df1300 = pd.read_csv('results/1300_disentanglement_scores.csv')\n",
    "\n",
    "dfs = [df0000[\"values\"].values, df0100[\"values\"].values, df0300[\"values\"].values, df0400[\"values\"].values,\n",
    "       df0600[\"values\"].values, df0700[\"values\"].values,\n",
    "       df0900[\"values\"].values, df1000[\"values\"].values, df1200[\"values\"].values, df1300[\"values\"].values]\n"
   ],
   "metadata": {
    "collapsed": false,
    "pycharm": {
     "name": "#%%\n"
    }
   }
  },
  {
   "cell_type": "code",
   "execution_count": null,
   "outputs": [],
   "source": [
    "result = []\n",
    "for df in dfs:\n",
    "    res = []\n",
    "    for score in df:\n",
    "        if score[0] == '(':\n",
    "            scores = score.strip(\"()\").split(',')\n",
    "            for s in scores:    res.append(float(s))\n",
    "        else:\n",
    "            res.append(float(score))\n",
    "    result.append(res)\n",
    "print(result)"
   ],
   "metadata": {
    "collapsed": false,
    "pycharm": {
     "name": "#%%\n"
    }
   }
  },
  {
   "cell_type": "code",
   "execution_count": null,
   "outputs": [],
   "source": [
    "import numpy as np\n",
    "\n",
    "mig2 = np.array(result)[:, 0]\n",
    "mod_score2 = np.array(result)[:, 1]\n",
    "rmig2 = np.array(result)[:, 2]\n",
    "jemmig2 = np.array(result)[:, 3]\n",
    "mig_sup2 = np.array(result)[:, 4]\n",
    "dcimig2 = np.array(result)[:, 5]\n",
    "d2 = np.array(result)[:, 6]\n",
    "c2 = np.array(result)[:, 7]\n",
    "i2 = np.array(result)[:, 8]\n",
    "sap2 = np.array(result)[:, 9]\n",
    "exp_score2 = np.array(result)[:, 10]\n"
   ],
   "metadata": {
    "collapsed": false,
    "pycharm": {
     "name": "#%%\n"
    }
   }
  },
  {
   "cell_type": "code",
   "execution_count": null,
   "outputs": [],
   "source": [
    "metric = \"MIG\"\n",
    "metric = \"Modularity\"\n",
    "metric = \"Disentanglement\"\n",
    "metric = \"Completeness\"\n",
    "metric = \"Informativeness\"\n",
    "metric = \"SAP\"\n",
    "metric = \"Explicitness\""
   ],
   "metadata": {
    "collapsed": false,
    "pycharm": {
     "name": "#%%\n"
    }
   }
  },
  {
   "cell_type": "code",
   "execution_count": null,
   "metadata": {
    "collapsed": true
   },
   "outputs": [],
   "source": [
    "import matplotlib.pyplot as plt\n",
    "\n",
    "# Define x-axis points with corresponding labels\n",
    "x_points = [1, 2, 3, 4, 5, 6, 7, 8, 9, 10]\n",
    "x_labels = ['beta-VAE(beta=1)', 'beta-VAE(beta=2)', 'FactorVAE(gamma=10)', 'FactorVAE(gamma=20)',\n",
    "            'DIP-VAE-I (lambda_od = 1)', 'DIP-VAE-I (lambda_od = 2)',\n",
    "            'DIP-VAE-II (lambda_od = 1)',\n",
    "            'DIP-VAE-II (lambda_od = 2)', 'beta-TCVAE (beta=1)', 'beta-TCVAE (beta=2)']\n",
    "\n",
    "y_data1 = mig\n",
    "y_data2 = mig2\n",
    "y_data1 = mod_score\n",
    "y_data2 = mod_score2\n",
    "y_data1 = d\n",
    "y_data2 = d2\n",
    "y_data1 = c\n",
    "y_data2 = c2\n",
    "y_data1 = i\n",
    "y_data2 = i2\n",
    "y_data1 = sap\n",
    "y_data2 = sap2\n",
    "y_data1 = exp_score\n",
    "y_data2 = exp_score2\n",
    "\n",
    "# Plot the lines\n",
    "plt.plot(x_points, y_data1, marker='o', color='#020887', label='theirs')\n",
    "plt.plot(x_points, y_data2, marker='o', color='#a9dbb8', label='ours')\n",
    "\n",
    "# Set x-axis labels\n",
    "plt.xticks(x_points, x_labels, rotation=45, ha='right')\n",
    "\n",
    "# Set y-axis label\n",
    "plt.ylabel('score')\n",
    "\n",
    "# Set title\n",
    "plt.title('Comparison of Achieved ' + metric + ' across all Models')\n",
    "\n",
    "# Add legend\n",
    "plt.legend()\n",
    "\n",
    "# save plot\n",
    "plt.savefig(\"results/\" + metric.lower() + \".pdf\", bbox_inches='tight')\n",
    "\n",
    "# Show the plot\n",
    "plt.show()"
   ]
  },
  {
   "cell_type": "code",
   "execution_count": null,
   "outputs": [],
   "source": [
    "#metric = \"RMIG\"\n",
    "metric = \"JEMMIG\"\n",
    "#metric = \"MIGsup\"\n",
    "#metric = \"DCIMIG\""
   ],
   "metadata": {
    "collapsed": false,
    "pycharm": {
     "name": "#%%\n"
    }
   }
  },
  {
   "cell_type": "code",
   "execution_count": null,
   "outputs": [],
   "source": [
    "import matplotlib.pyplot as plt\n",
    "\n",
    "# Define x-axis points with corresponding labels\n",
    "x_points = [1, 2, 3, 4, 5, 6, 7, 8, 9, 10]\n",
    "x_labels = ['beta-VAE(beta=1)', 'beta-VAE(beta=2)', 'FactorVAE(gamma=10)', 'FactorVAE(gamma=20)',\n",
    "            'DIP-VAE-I (lambda_od = 1)', 'DIP-VAE-I (lambda_od = 2)',\n",
    "            'DIP-VAE-II (lambda_od = 1)',\n",
    "            'DIP-VAE-II (lambda_od = 2)', 'beta-TCVAE (beta=1)', 'beta-TCVAE (beta=2)']\n",
    "\n",
    "#y_data1 = rmig2\n",
    "y_data1 = jemmig2\n",
    "#y_data1 = mig_sup2\n",
    "#y_data1 = dcimig2\n",
    "\n",
    "# Plot the lines\n",
    "plt.plot(x_points, y_data1, marker='o', color='#a9dbb8')\n",
    "\n",
    "# Set x-axis labels\n",
    "plt.xticks(x_points, x_labels, rotation=45, ha='right')\n",
    "\n",
    "# Set y-axis label\n",
    "plt.ylabel('score')\n",
    "\n",
    "# Set title\n",
    "plt.title('Comparison of Achieved ' + metric + ' across all Models')\n",
    "\n",
    "# save plot\n",
    "plt.savefig(\"results/\" + metric.lower() + \".pdf\", bbox_inches='tight')\n",
    "\n",
    "# Show the plot\n",
    "plt.show()"
   ],
   "metadata": {
    "collapsed": false,
    "pycharm": {
     "name": "#%%\n"
    }
   }
  }
 ],
 "metadata": {
  "kernelspec": {
   "display_name": "Python 3",
   "language": "python",
   "name": "python3"
  },
  "language_info": {
   "codemirror_mode": {
    "name": "ipython",
    "version": 2
   },
   "file_extension": ".py",
   "mimetype": "text/x-python",
   "name": "python",
   "nbconvert_exporter": "python",
   "pygments_lexer": "ipython2",
   "version": "2.7.6"
  }
 },
 "nbformat": 4,
 "nbformat_minor": 0
}